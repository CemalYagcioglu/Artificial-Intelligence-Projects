{
 "cells": [
  {
   "cell_type": "markdown",
   "metadata": {},
   "source": [
    "# ZILLOW CHALLANGE"
   ]
  },
  {
   "cell_type": "markdown",
   "metadata": {},
   "source": [
    "## Import Packages"
   ]
  },
  {
   "cell_type": "code",
   "execution_count": 1,
   "metadata": {
    "collapsed": false
   },
   "outputs": [
    {
     "name": "stderr",
     "output_type": "stream",
     "text": [
      "/Users/Cemal/anaconda/lib/python3.6/site-packages/sklearn/cross_validation.py:44: DeprecationWarning: This module was deprecated in version 0.18 in favor of the model_selection module into which all the refactored classes and functions are moved. Also note that the interface of the new CV iterators are different from that of this module. This module will be removed in 0.20.\n",
      "  \"This module will be removed in 0.20.\", DeprecationWarning)\n"
     ]
    }
   ],
   "source": [
    "import numpy as np\n",
    "import pandas as pd\n",
    "import xgboost as xgb\n",
    "from sklearn import metrics\n",
    "import matplotlib.pyplot as plt"
   ]
  },
  {
   "cell_type": "markdown",
   "metadata": {},
   "source": [
    "## Load Data and View the labels"
   ]
  },
  {
   "cell_type": "code",
   "execution_count": 2,
   "metadata": {
    "collapsed": false
   },
   "outputs": [
    {
     "name": "stdout",
     "output_type": "stream",
     "text": [
      "Loading data ...\n"
     ]
    },
    {
     "name": "stderr",
     "output_type": "stream",
     "text": [
      "/Users/Cemal/anaconda/lib/python3.6/site-packages/IPython/core/interactiveshell.py:2717: DtypeWarning: Columns (22,32,34,49,55) have mixed types. Specify dtype option on import or set low_memory=False.\n",
      "  interactivity=interactivity, compiler=compiler, result=result)\n"
     ]
    }
   ],
   "source": [
    "print('Loading data ...')\n",
    "\n",
    "train = pd.read_csv('./input/train_2016_v2.csv')\n",
    "prop = pd.read_csv('./input/properties_2016.csv')\n",
    "sample = pd.read_csv('./input/sample_submission.csv')\n"
   ]
  },
  {
   "cell_type": "markdown",
   "metadata": {},
   "source": [
    "## Checking the Data"
   ]
  },
  {
   "cell_type": "code",
   "execution_count": 3,
   "metadata": {
    "collapsed": false
   },
   "outputs": [
    {
     "name": "stdout",
     "output_type": "stream",
     "text": [
      "Index(['parcelid', 'airconditioningtypeid', 'architecturalstyletypeid',\n",
      "       'basementsqft', 'bathroomcnt', 'bedroomcnt', 'buildingclasstypeid',\n",
      "       'buildingqualitytypeid', 'calculatedbathnbr', 'decktypeid',\n",
      "       'finishedfloor1squarefeet', 'calculatedfinishedsquarefeet',\n",
      "       'finishedsquarefeet12', 'finishedsquarefeet13', 'finishedsquarefeet15',\n",
      "       'finishedsquarefeet50', 'finishedsquarefeet6', 'fips', 'fireplacecnt',\n",
      "       'fullbathcnt', 'garagecarcnt', 'garagetotalsqft', 'hashottuborspa',\n",
      "       'heatingorsystemtypeid', 'latitude', 'longitude', 'lotsizesquarefeet',\n",
      "       'poolcnt', 'poolsizesum', 'pooltypeid10', 'pooltypeid2', 'pooltypeid7',\n",
      "       'propertycountylandusecode', 'propertylandusetypeid',\n",
      "       'propertyzoningdesc', 'rawcensustractandblock', 'regionidcity',\n",
      "       'regionidcounty', 'regionidneighborhood', 'regionidzip', 'roomcnt',\n",
      "       'storytypeid', 'threequarterbathnbr', 'typeconstructiontypeid',\n",
      "       'unitcnt', 'yardbuildingsqft17', 'yardbuildingsqft26', 'yearbuilt',\n",
      "       'numberofstories', 'fireplaceflag', 'structuretaxvaluedollarcnt',\n",
      "       'taxvaluedollarcnt', 'assessmentyear', 'landtaxvaluedollarcnt',\n",
      "       'taxamount', 'taxdelinquencyflag', 'taxdelinquencyyear',\n",
      "       'censustractandblock'],\n",
      "      dtype='object')\n"
     ]
    }
   ],
   "source": [
    "print(prop.columns)"
   ]
  },
  {
   "cell_type": "code",
   "execution_count": 4,
   "metadata": {
    "collapsed": false
   },
   "outputs": [
    {
     "name": "stdout",
     "output_type": "stream",
     "text": [
      "                                        0\n",
      "parcelid                         10754147\n",
      "airconditioningtypeid                 NaN\n",
      "architecturalstyletypeid              NaN\n",
      "basementsqft                          NaN\n",
      "bathroomcnt                             0\n",
      "bedroomcnt                              0\n",
      "buildingclasstypeid                   NaN\n",
      "buildingqualitytypeid                 NaN\n",
      "calculatedbathnbr                     NaN\n",
      "decktypeid                            NaN\n",
      "finishedfloor1squarefeet              NaN\n",
      "calculatedfinishedsquarefeet          NaN\n",
      "finishedsquarefeet12                  NaN\n",
      "finishedsquarefeet13                  NaN\n",
      "finishedsquarefeet15                  NaN\n",
      "finishedsquarefeet50                  NaN\n",
      "finishedsquarefeet6                   NaN\n",
      "fips                                 6037\n",
      "fireplacecnt                          NaN\n",
      "fullbathcnt                           NaN\n",
      "garagecarcnt                          NaN\n",
      "garagetotalsqft                       NaN\n",
      "hashottuborspa                        NaN\n",
      "heatingorsystemtypeid                 NaN\n",
      "latitude                      3.41444e+07\n",
      "longitude                    -1.18654e+08\n",
      "lotsizesquarefeet                   85768\n",
      "poolcnt                               NaN\n",
      "poolsizesum                           NaN\n",
      "pooltypeid10                          NaN\n",
      "pooltypeid2                           NaN\n",
      "pooltypeid7                           NaN\n",
      "propertycountylandusecode            010D\n",
      "propertylandusetypeid                 269\n",
      "propertyzoningdesc                    NaN\n",
      "rawcensustractandblock         6.0378e+07\n",
      "regionidcity                        37688\n",
      "regionidcounty                       3101\n",
      "regionidneighborhood                  NaN\n",
      "regionidzip                         96337\n",
      "roomcnt                                 0\n",
      "storytypeid                           NaN\n",
      "threequarterbathnbr                   NaN\n",
      "typeconstructiontypeid                NaN\n",
      "unitcnt                               NaN\n",
      "yardbuildingsqft17                    NaN\n",
      "yardbuildingsqft26                    NaN\n",
      "yearbuilt                             NaN\n",
      "numberofstories                       NaN\n",
      "fireplaceflag                         NaN\n",
      "structuretaxvaluedollarcnt            NaN\n",
      "taxvaluedollarcnt                       9\n",
      "assessmentyear                       2015\n",
      "landtaxvaluedollarcnt                   9\n",
      "taxamount                             NaN\n",
      "taxdelinquencyflag                    NaN\n",
      "taxdelinquencyyear                    NaN\n",
      "censustractandblock                   NaN\n"
     ]
    }
   ],
   "source": [
    "print(prop.head(1).transpose())"
   ]
  },
  {
   "cell_type": "code",
   "execution_count": 5,
   "metadata": {
    "collapsed": false
   },
   "outputs": [
    {
     "name": "stderr",
     "output_type": "stream",
     "text": [
      "/Users/Cemal/anaconda/lib/python3.6/site-packages/ipykernel/__main__.py:3: DeprecationWarning: \n",
      ".ix is deprecated. Please use\n",
      ".loc for label based indexing or\n",
      ".iloc for positional indexing\n",
      "\n",
      "See the documentation here:\n",
      "http://pandas.pydata.org/pandas-docs/stable/indexing.html#deprecate_ix\n",
      "  app.launch_new_instance()\n"
     ]
    },
    {
     "data": {
      "image/png": "[encoded data removed]",
      "text/plain": [
       "<matplotlib.figure.Figure at 0x12359a400>"
      ]
     },
     "metadata": {},
     "output_type": "display_data"
    }
   ],
   "source": [
    "missing_df = prop.isnull().sum(axis=0).reset_index()\n",
    "missing_df.columns = ['column_name', 'missing_count']\n",
    "missing_df = missing_df.ix[missing_df['missing_count']>0]\n",
    "missing_df = missing_df.sort_values(by='missing_count')\n",
    "\n",
    "ind = np.arange(missing_df.shape[0])\n",
    "width = 0.9\n",
    "fig, ax = plt.subplots(figsize=(12,18))\n",
    "rects = ax.barh(ind, missing_df.missing_count.values, color='blue')\n",
    "ax.set_yticks(ind)\n",
    "ax.set_yticklabels(missing_df.column_name.values, rotation='horizontal')\n",
    "ax.set_xlabel(\"Count of missing values\")\n",
    "ax.set_title(\"Number of missing values in each column\")\n",
    "plt.show()"
   ]
  },
  {
   "cell_type": "markdown",
   "metadata": {},
   "source": [
    "## Changing Variable Types"
   ]
  },
  {
   "cell_type": "code",
   "execution_count": 6,
   "metadata": {
    "collapsed": false
   },
   "outputs": [
    {
     "name": "stdout",
     "output_type": "stream",
     "text": [
      "Binding to float32\n"
     ]
    }
   ],
   "source": [
    "print('Binding to float32')\n",
    "\n",
    "for c, dtype in zip(prop.columns, prop.dtypes):\n",
    "\tif dtype == np.float64:\n",
    "\t\tprop[c] = prop[c].astype(np.float32)"
   ]
  },
  {
   "cell_type": "markdown",
   "metadata": {},
   "source": [
    "## Create the Training and Validation Set"
   ]
  },
  {
   "cell_type": "code",
   "execution_count": 7,
   "metadata": {
    "collapsed": false
   },
   "outputs": [
    {
     "name": "stdout",
     "output_type": "stream",
     "text": [
      "Creating training set ...\n",
      "(90275, 55) (90275,)\n"
     ]
    }
   ],
   "source": [
    "print('Creating training set ...')\n",
    "\n",
    "df_train = train.merge(prop, how='left', on='parcelid')\n",
    "\n",
    "x_train = df_train.drop(['parcelid', 'logerror', 'transactiondate', 'propertyzoningdesc', 'propertycountylandusecode'], axis=1)\n",
    "y_train = df_train['logerror'].values\n",
    "print(x_train.shape, y_train.shape)\n",
    "\n",
    "train_columns = x_train.columns\n",
    "\n",
    "for c in x_train.dtypes[x_train.dtypes == object].index.values:\n",
    "    x_train[c] = (x_train[c] == True)\n",
    "\n",
    "\n",
    "split = 80000\n",
    "x_train, y_train, x_valid, y_valid = x_train[:split], y_train[:split], x_train[split:], y_train[split:]"
   ]
  },
  {
   "cell_type": "markdown",
   "metadata": {},
   "source": [
    "## Build DMatrix"
   ]
  },
  {
   "cell_type": "code",
   "execution_count": 8,
   "metadata": {
    "collapsed": false
   },
   "outputs": [
    {
     "name": "stdout",
     "output_type": "stream",
     "text": [
      "Building DMatrix...\n"
     ]
    }
   ],
   "source": [
    "print('Building DMatrix...')\n",
    "\n",
    "d_train = xgb.DMatrix(x_train, label=y_train)\n",
    "d_valid = xgb.DMatrix(x_valid, label=y_valid)\n",
    "\n"
   ]
  },
  {
   "cell_type": "markdown",
   "metadata": {},
   "source": [
    "## Train the Model"
   ]
  },
  {
   "cell_type": "code",
   "execution_count": 9,
   "metadata": {
    "collapsed": false
   },
   "outputs": [
    {
     "name": "stdout",
     "output_type": "stream",
     "text": [
      "Training ...\n",
      "[0]\ttrain-mae:0.488065\tvalid-mae:0.48112\n",
      "Multiple eval metrics have been passed: 'valid-mae' will be used for early stopping.\n",
      "\n",
      "Will train until valid-mae hasn't improved in 100 rounds.\n",
      "[10]\ttrain-mae:0.402221\tvalid-mae:0.395444\n",
      "[20]\ttrain-mae:0.33268\tvalid-mae:0.326099\n",
      "[30]\ttrain-mae:0.276518\tvalid-mae:0.270132\n",
      "[40]\ttrain-mae:0.231316\tvalid-mae:0.225213\n",
      "[50]\ttrain-mae:0.195059\tvalid-mae:0.189317\n",
      "[60]\ttrain-mae:0.166121\tvalid-mae:0.16072\n",
      "[70]\ttrain-mae:0.143116\tvalid-mae:0.138042\n",
      "[80]\ttrain-mae:0.124973\tvalid-mae:0.120214\n",
      "[90]\ttrain-mae:0.11079\tvalid-mae:0.106351\n",
      "[100]\ttrain-mae:0.099822\tvalid-mae:0.095702\n",
      "[110]\ttrain-mae:0.091454\tvalid-mae:0.087592\n",
      "[120]\ttrain-mae:0.085149\tvalid-mae:0.08158\n",
      "[130]\ttrain-mae:0.080457\tvalid-mae:0.077192\n",
      "[140]\ttrain-mae:0.077015\tvalid-mae:0.074063\n",
      "[150]\ttrain-mae:0.07451\tvalid-mae:0.071827\n",
      "[160]\ttrain-mae:0.072688\tvalid-mae:0.070245\n",
      "[170]\ttrain-mae:0.071374\tvalid-mae:0.069128\n",
      "[180]\ttrain-mae:0.070415\tvalid-mae:0.068366\n",
      "[190]\ttrain-mae:0.069715\tvalid-mae:0.067854\n",
      "[200]\ttrain-mae:0.069209\tvalid-mae:0.067512\n",
      "[210]\ttrain-mae:0.068828\tvalid-mae:0.06727\n",
      "[220]\ttrain-mae:0.068547\tvalid-mae:0.067113\n",
      "[230]\ttrain-mae:0.068334\tvalid-mae:0.067006\n",
      "[240]\ttrain-mae:0.068171\tvalid-mae:0.066937\n",
      "[250]\ttrain-mae:0.068039\tvalid-mae:0.066892\n",
      "[260]\ttrain-mae:0.067937\tvalid-mae:0.066866\n",
      "[270]\ttrain-mae:0.067856\tvalid-mae:0.066848\n",
      "[280]\ttrain-mae:0.067789\tvalid-mae:0.06684\n",
      "[290]\ttrain-mae:0.067734\tvalid-mae:0.066839\n",
      "[300]\ttrain-mae:0.067686\tvalid-mae:0.066841\n",
      "[310]\ttrain-mae:0.067651\tvalid-mae:0.066844\n",
      "[320]\ttrain-mae:0.067618\tvalid-mae:0.066859\n",
      "[330]\ttrain-mae:0.06759\tvalid-mae:0.06686\n",
      "[340]\ttrain-mae:0.067568\tvalid-mae:0.066872\n",
      "[350]\ttrain-mae:0.067543\tvalid-mae:0.066882\n",
      "[360]\ttrain-mae:0.067523\tvalid-mae:0.066877\n",
      "[370]\ttrain-mae:0.067504\tvalid-mae:0.066888\n",
      "[380]\ttrain-mae:0.067483\tvalid-mae:0.066905\n",
      "Stopping. Best iteration:\n",
      "[288]\ttrain-mae:0.067745\tvalid-mae:0.066835\n",
      "\n"
     ]
    }
   ],
   "source": [
    "print('Training ...')\n",
    "\n",
    "params = {}\n",
    "params['eta'] = 0.02\n",
    "params['objective'] = 'reg:linear'\n",
    "params['eval_metric'] = 'mae'\n",
    "params['max_depth'] = 4\n",
    "params['silent'] = 1\n",
    "\n",
    "watchlist = [(d_train, 'train'), (d_valid, 'valid')]\n",
    "clf = xgb.train(params, d_train, 10000, watchlist, early_stopping_rounds=100, verbose_eval=10)\n",
    "\n",
    "#del d_train, d_valid"
   ]
  },
  {
   "cell_type": "markdown",
   "metadata": {
    "collapsed": false
   },
   "source": [
    "## Build the Test Set"
   ]
  },
  {
   "cell_type": "code",
   "execution_count": 10,
   "metadata": {
    "collapsed": false
   },
   "outputs": [
    {
     "name": "stdout",
     "output_type": "stream",
     "text": [
      "Building test set ...\n"
     ]
    },
    {
     "name": "stderr",
     "output_type": "stream",
     "text": [
      "/Users/Cemal/anaconda/lib/python3.6/site-packages/ipykernel/__main__.py:10: SettingWithCopyWarning: \n",
      "A value is trying to be set on a copy of a slice from a DataFrame.\n",
      "Try using .loc[row_indexer,col_indexer] = value instead\n",
      "\n",
      "See the caveats in the documentation: http://pandas.pydata.org/pandas-docs/stable/indexing.html#indexing-view-versus-copy\n"
     ]
    }
   ],
   "source": [
    "print('Building test set ...')\n",
    "\n",
    "sample['parcelid'] = sample['ParcelId']\n",
    "df_test = sample.merge(prop, on='parcelid', how='left')\n",
    "\n",
    "\n",
    "\n",
    "x_test = df_test[train_columns]\n",
    "for c in x_test.dtypes[x_test.dtypes == object].index.values:\n",
    "    x_test[c] = (x_test[c] == True)\n",
    "\n",
    "\n",
    "d_test = xgb.DMatrix(x_test)"
   ]
  },
  {
   "cell_type": "markdown",
   "metadata": {},
   "source": [
    "## Predict the test"
   ]
  },
  {
   "cell_type": "code",
   "execution_count": 11,
   "metadata": {
    "collapsed": false
   },
   "outputs": [
    {
     "name": "stdout",
     "output_type": "stream",
     "text": [
      "Predicting on test ...\n"
     ]
    }
   ],
   "source": [
    "print('Predicting on test ...')\n",
    "\n",
    "p_test = clf.predict(d_test)"
   ]
  },
  {
   "cell_type": "markdown",
   "metadata": {},
   "source": [
    "## Print the Final File"
   ]
  },
  {
   "cell_type": "code",
   "execution_count": 12,
   "metadata": {
    "collapsed": false
   },
   "outputs": [
    {
     "name": "stdout",
     "output_type": "stream",
     "text": [
      "Writing csv ...\n"
     ]
    }
   ],
   "source": [
    "sub = pd.read_csv('./input/sample_submission.csv')\n",
    "for c in sub.columns[sub.columns != 'ParcelId']:\n",
    "    sub[c] = p_test\n",
    "\n",
    "print('Writing csv ...')\n",
    "sub.to_csv('xgb_zillow.csv', index=False, float_format='%.4f') "
   ]
  }
 ],
 "metadata": {
  "kernelspec": {
   "display_name": "Python 3",
   "language": "python",
   "name": "python3"
  },
  "language_info": {
   "codemirror_mode": {
    "name": "ipython",
    "version": 3
   },
   "file_extension": ".py",
   "mimetype": "text/x-python",
   "name": "python",
   "nbconvert_exporter": "python",
   "pygments_lexer": "ipython3",
   "version": "3.6.0"
  }
 },
 "nbformat": 4,
 "nbformat_minor": 2
}
