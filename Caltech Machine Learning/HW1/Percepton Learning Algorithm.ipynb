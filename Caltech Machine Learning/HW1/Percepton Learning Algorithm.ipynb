{
 "cells": [
  {
   "cell_type": "code",
   "execution_count": 1,
   "metadata": {
    "collapsed": false
   },
   "outputs": [],
   "source": [
    "import random\n",
    "import pandas as pd\n",
    "import matplotlib.pyplot as plt\n",
    "import numpy as np"
   ]
  },
  {
   "cell_type": "code",
   "execution_count": 18,
   "metadata": {
    "collapsed": false
   },
   "outputs": [
    {
     "name": "stdout",
     "output_type": "stream",
     "text": [
      "[0.24580338977940386, 0.4835739785214588] [0.5903871311313933, 0.8849005675541006]\n"
     ]
    }
   ],
   "source": [
    "random.seed(5)\n",
    "p1 = [random.uniform(-1,1), random.uniform(-1,1)]\n",
    "p2 = [random.uniform(-1,1), random.uniform(-1,1)]\n",
    "print(p1,p2)"
   ]
  },
  {
   "cell_type": "code",
   "execution_count": 19,
   "metadata": {
    "collapsed": false
   },
   "outputs": [
    {
     "data": {
      "text/plain": [
       "[<matplotlib.lines.Line2D at 0x11a5f8080>]"
      ]
     },
     "execution_count": 19,
     "metadata": {},
     "output_type": "execute_result"
    }
   ],
   "source": [
    "plt.xlim(-1,1)\n",
    "plt.ylim(-1,1)\n",
    "m = (p2[1]-p1[1])/(p2[0]-p1[0])\n",
    "b = p1[1]-m*p1[0]\n",
    "x_values = np.linspace(-1,1,100)\n",
    "y_values = x_values*m + b\n",
    "plt.plot(x_values,y_values)"
   ]
  },
  {
   "cell_type": "code",
   "execution_count": 20,
   "metadata": {
    "collapsed": false
   },
   "outputs": [
    {
     "data": {
      "image/png": "[encoded data removed]",
      "text/plain": [
       "<matplotlib.figure.Figure at 0x11a0c27f0>"
      ]
     },
     "metadata": {},
     "output_type": "display_data"
    }
   ],
   "source": [
    "xvalues = []\n",
    "yvalues = []\n",
    "for index in range(10):\n",
    "    x = random.uniform(-1,1)\n",
    "    y = random.uniform(-1,1)\n",
    "    xvalues.append(x)\n",
    "    yvalues.append(y)\n",
    "    \n",
    "plt.scatter(xvalues,yvalues, color='red')\n",
    "plt.show()\n",
    "    "
   ]
  },
  {
   "cell_type": "code",
   "execution_count": 21,
   "metadata": {
    "collapsed": false
   },
   "outputs": [
    {
     "name": "stdout",
     "output_type": "stream",
     "text": [
      "[[ 1.  1. -1. -1. -1.  1.  1.  1. -1. -1.]]\n"
     ]
    }
   ],
   "source": [
    "outputs = np.matrix(np.sign(yvalues-np.multiply(xvalues,m)+b))\n",
    "print(outputs)\n",
    "#print(outputs[0,9])\n",
    "#print(xvalues[0,9],yvalues[0,9])\n"
   ]
  },
  {
   "cell_type": "code",
   "execution_count": 22,
   "metadata": {
    "collapsed": false
   },
   "outputs": [
    {
     "name": "stdout",
     "output_type": "stream",
     "text": [
      "[[ 0.47979715 -0.94198954  0.88671343  0.80180098 -0.0618619   0.08752172\n",
      "  -0.97377162 -0.44103527  0.5314509   0.59429398]]\n",
      "[[ 0.]]\n",
      "[[ 0.]]\n"
     ]
    }
   ],
   "source": [
    "xvalues = np.matrix(xvalues)\n",
    "weight = np.matrix([0.0])\n",
    "threshold = 0\n",
    "l = 0.7\n",
    "print(xvalues)\n",
    "print(weight)\n",
    "print(np.transpose(weight))\n",
    "\n",
    "#np.sign(np.transpose(weight)*xvalues)\n"
   ]
  },
  {
   "cell_type": "code",
   "execution_count": 23,
   "metadata": {
    "collapsed": false
   },
   "outputs": [
    {
     "name": "stdout",
     "output_type": "stream",
     "text": [
      "GRAPH\n"
     ]
    },
    {
     "data": {
      "image/png": "[encoded data removed]",
      "text/plain": [
       "<matplotlib.figure.Figure at 0x11a6a2710>"
      ]
     },
     "metadata": {},
     "output_type": "display_data"
    },
    {
     "name": "stdout",
     "output_type": "stream",
     "text": [
      "WRONG POINTS INDEX: 2\n",
      "WRONG POINTS X COORDINATE: 0.8867134339966274\n",
      "WRONG WEIGHT : [[ 0.]]\n",
      "a\n"
     ]
    }
   ],
   "source": [
    "for i in range(100):\n",
    "    #outputs = np.matrix(np.sign(yvalues-np.multiply(xvalues,m)+b))\n",
    "    truth = np.sign(yvalues-(np.multiply(np.transpose(weight),xvalues)-threshold))\n",
    "    cond = truth == outputs\n",
    "    #print(cond[0,index])\n",
    "    #print('---NOW CORRECT---')\n",
    "    index = random.randrange(10)\n",
    "    if cond[0,index] == False:\n",
    "        \n",
    "        \n",
    "        #threshold = weight[0,1]+outputs[0,index]\n",
    "    #if True:\n",
    "        xvalues = np.matrix(xvalues)\n",
    "        yvalues = np.matrix(yvalues)\n",
    "        d = 0\n",
    "        x_values = np.linspace(-1,1,100)\n",
    "        y_values = (np.multiply(x_values,weight) + threshold).tolist()\n",
    "        y_values = y_values[0]\n",
    "        #print(x_values,y_values)\n",
    "        plt.plot(x_values,y_values,)\n",
    "\n",
    "        xvalueshigh = xvalues[outputs>0].tolist()\n",
    "        xvalueslow = xvalues[outputs<0].tolist()\n",
    "        #print(outputs)\n",
    "        #print(xvalues)\n",
    "        #print(xvalueslow)\n",
    "\n",
    "        yvalueshigh = yvalues[outputs>0].tolist()\n",
    "        yvalueslow = yvalues[outputs<0].tolist()\n",
    "\n",
    "\n",
    "\n",
    "\n",
    "        plt.scatter(xvalueshigh,yvalueshigh, color='red')\n",
    "        plt.scatter(xvalueslow,yvalueslow, color='green')\n",
    "        \n",
    "        \n",
    "        #print('----ITS FALSE-----')\n",
    "\n",
    "        #threshold = weight + outputs[0,index]\n",
    "        print('GRAPH')\n",
    "        plt.show()\n",
    "        print('WRONG POINTS INDEX: {}'.format(index))\n",
    "        print('WRONG POINTS X COORDINATE: {}'.format(xvalues[0,index]))\n",
    "        print('WRONG WEIGHT : {}'.format(weight))\n",
    "        a = weight-outputs[0,index]*xvalues[0,index]\n",
    "        #print(a)\n",
    "        weight = a\n",
    "print('a')\n"
   ]
  },
  {
   "cell_type": "code",
   "execution_count": null,
   "metadata": {
    "collapsed": false
   },
   "outputs": [],
   "source": []
  },
  {
   "cell_type": "code",
   "execution_count": 24,
   "metadata": {
    "collapsed": false
   },
   "outputs": [
    {
     "name": "stdout",
     "output_type": "stream",
     "text": [
      "[-1.         -0.97979798 -0.95959596 -0.93939394 -0.91919192 -0.8989899\n",
      " -0.87878788 -0.85858586 -0.83838384 -0.81818182 -0.7979798  -0.77777778\n",
      " -0.75757576 -0.73737374 -0.71717172 -0.6969697  -0.67676768 -0.65656566\n",
      " -0.63636364 -0.61616162 -0.5959596  -0.57575758 -0.55555556 -0.53535354\n",
      " -0.51515152 -0.49494949 -0.47474747 -0.45454545 -0.43434343 -0.41414141\n",
      " -0.39393939 -0.37373737 -0.35353535 -0.33333333 -0.31313131 -0.29292929\n",
      " -0.27272727 -0.25252525 -0.23232323 -0.21212121 -0.19191919 -0.17171717\n",
      " -0.15151515 -0.13131313 -0.11111111 -0.09090909 -0.07070707 -0.05050505\n",
      " -0.03030303 -0.01010101  0.01010101  0.03030303  0.05050505  0.07070707\n",
      "  0.09090909  0.11111111  0.13131313  0.15151515  0.17171717  0.19191919\n",
      "  0.21212121  0.23232323  0.25252525  0.27272727  0.29292929  0.31313131\n",
      "  0.33333333  0.35353535  0.37373737  0.39393939  0.41414141  0.43434343\n",
      "  0.45454545  0.47474747  0.49494949  0.51515152  0.53535354  0.55555556\n",
      "  0.57575758  0.5959596   0.61616162  0.63636364  0.65656566  0.67676768\n",
      "  0.6969697   0.71717172  0.73737374  0.75757576  0.77777778  0.7979798\n",
      "  0.81818182  0.83838384  0.85858586  0.87878788  0.8989899   0.91919192\n",
      "  0.93939394  0.95959596  0.97979798  1.        ] [-0.8867134339966274, -0.8688000312896248, -0.8508866285826222, -0.8329732258756197, -0.8150598231686171, -0.7971464204616145, -0.779233017754612, -0.7613196150476094, -0.7434062123406068, -0.7254928096336042, -0.7075794069266017, -0.6896660042195991, -0.6717526015125965, -0.6538391988055939, -0.6359257960985913, -0.6180123933915889, -0.6000989906845862, -0.5821855879775837, -0.5642721852705811, -0.5463587825635785, -0.5284453798565759, -0.5105319771495733, -0.4926185744425708, -0.4747051717355681, -0.4567917690285656, -0.438878366321563, -0.42096496361456043, -0.40305156090755784, -0.38513815820055525, -0.36722475549355277, -0.3493113527865502, -0.3313979500795476, -0.313484547372545, -0.2955711446655424, -0.2776577419585398, -0.2597443392515372, -0.24183093654453472, -0.22391753383753213, -0.20600413113052954, -0.18809072842352695, -0.17017732571652436, -0.15226392300952177, -0.1343505203025193, -0.11643711759551668, -0.0985237148885141, -0.0806103121815115, -0.06269690947450891, -0.04478350676750633, -0.026870104060503837, -0.008956701353501247, 0.008956701353501344, 0.026870104060504035, 0.044783506767506524, 0.06269690947450901, 0.08061031218151171, 0.09852371488851419, 0.11643711759551689, 0.13435052030251937, 0.15226392300952188, 0.17017732571652455, 0.18809072842352706, 0.20600413113052973, 0.22391753383753224, 0.2418309365445349, 0.2597443392515374, 0.2776577419585399, 0.2955711446655426, 0.3134845473725451, 0.33139795007954775, 0.3493113527865503, 0.36722475549355293, 0.38513815820055547, 0.40305156090755795, 0.42096496361456065, 0.43887836632156313, 0.45679176902856583, 0.4747051717355683, 0.4926185744425708, 0.5105319771495734, 0.528445379856576, 0.5463587825635786, 0.5642721852705812, 0.5821855879775838, 0.6000989906845864, 0.6180123933915889, 0.6359257960985916, 0.653839198805594, 0.6717526015125967, 0.6896660042195992, 0.7075794069266019, 0.7254928096336044, 0.7434062123406069, 0.7613196150476096, 0.7792330177546121, 0.7971464204616148, 0.8150598231686172, 0.8329732258756197, 0.8508866285826224, 0.8688000312896249, 0.8867134339966274]\n",
      "[[ 1.  1. -1. -1. -1.  1.  1.  1. -1. -1.]]\n",
      "[[ 0.47979715 -0.94198954  0.88671343  0.80180098 -0.0618619   0.08752172\n",
      "  -0.97377162 -0.44103527  0.5314509   0.59429398]]\n",
      "[[0.8867134339966274, 0.8018009835012454, -0.06186190443567252, 0.5314509032582835, 0.594293982862409]]\n"
     ]
    },
    {
     "data": {
      "image/png": "[encoded data removed]",
      "text/plain": [
       "<matplotlib.figure.Figure at 0x11a0a6cc0>"
      ]
     },
     "metadata": {},
     "output_type": "display_data"
    }
   ],
   "source": [
    "#plt.xlim(-1,1)\n",
    "#plt.ylim(-1,1)\n",
    "xvalues = np.matrix(xvalues)\n",
    "yvalues = np.matrix(yvalues)\n",
    "d = 0\n",
    "x_values = np.linspace(-1,1,100)\n",
    "y_values = (np.multiply(x_values,weight) + threshold).tolist()\n",
    "y_values = y_values[0]\n",
    "print(x_values,y_values)\n",
    "plt.plot(x_values,y_values)\n",
    "\n",
    "\n",
    "xvalueshigh = xvalues[outputs>0].tolist()\n",
    "xvalueslow = xvalues[outputs<0].tolist()\n",
    "print(outputs)\n",
    "print(xvalues)\n",
    "print(xvalueslow)\n",
    "\n",
    "yvalueshigh = yvalues[outputs>0].tolist()\n",
    "yvalueslow = yvalues[outputs<0].tolist()\n",
    "\n",
    "\n",
    "\n",
    "\n",
    "plt.scatter(xvalueshigh,yvalueshigh, color='red')\n",
    "plt.scatter(xvalueslow,yvalueslow, color='green')\n",
    "plt.show()\n",
    "    \n"
   ]
  },
  {
   "cell_type": "code",
   "execution_count": null,
   "metadata": {
    "collapsed": true
   },
   "outputs": [],
   "source": []
  },
  {
   "cell_type": "code",
   "execution_count": null,
   "metadata": {
    "collapsed": true
   },
   "outputs": [],
   "source": []
  }
 ],
 "metadata": {
  "kernelspec": {
   "display_name": "Python 3",
   "language": "python",
   "name": "python3"
  },
  "language_info": {
   "codemirror_mode": {
    "name": "ipython",
    "version": 3
   },
   "file_extension": ".py",
   "mimetype": "text/x-python",
   "name": "python",
   "nbconvert_exporter": "python",
   "pygments_lexer": "ipython3",
   "version": "3.6.0"
  }
 },
 "nbformat": 4,
 "nbformat_minor": 2
}
