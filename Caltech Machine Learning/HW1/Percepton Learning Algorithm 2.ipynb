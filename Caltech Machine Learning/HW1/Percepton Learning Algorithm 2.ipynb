{
 "cells": [
  {
   "cell_type": "code",
   "execution_count": 67,
   "metadata": {
    "collapsed": true
   },
   "outputs": [],
   "source": [
    "import random\n",
    "import pandas as pd\n",
    "import matplotlib.pyplot as plt\n",
    "import numpy as np"
   ]
  },
  {
   "cell_type": "code",
   "execution_count": 68,
   "metadata": {
    "collapsed": false
   },
   "outputs": [
    {
     "name": "stdout",
     "output_type": "stream",
     "text": [
      "[-0.09524089298036276, 0.11954477216099191] [0.8484211680474587, -0.06869985980045334]\n"
     ]
    }
   ],
   "source": [
    "random.seed(11)\n",
    "p1 = [random.uniform(-1,1), random.uniform(-1,1)]\n",
    "p2 = [random.uniform(-1,1), random.uniform(-1,1)]\n",
    "print(p1,p2)"
   ]
  },
  {
   "cell_type": "code",
   "execution_count": 69,
   "metadata": {
    "collapsed": false
   },
   "outputs": [
    {
     "data": {
      "text/plain": [
       "[<matplotlib.lines.Line2D at 0x11655d780>]"
      ]
     },
     "execution_count": 69,
     "metadata": {},
     "output_type": "execute_result"
    }
   ],
   "source": [
    "plt.xlim(-1,1)\n",
    "plt.ylim(-1,1)\n",
    "m = (p2[1]-p1[1])/(p2[0]-p1[0])\n",
    "b = p1[1]-m*p1[0]\n",
    "x_values = np.linspace(-1,1,100)\n",
    "y_values = x_values*m + b\n",
    "plt.plot(x_values,y_values)"
   ]
  },
  {
   "cell_type": "code",
   "execution_count": 70,
   "metadata": {
    "collapsed": false
   },
   "outputs": [
    {
     "data": {
      "image/png": "[encoded data removed]",
      "text/plain": [
       "<matplotlib.figure.Figure at 0x1165d02b0>"
      ]
     },
     "metadata": {},
     "output_type": "display_data"
    }
   ],
   "source": [
    "x0 = 0\n",
    "x1values = []\n",
    "x2values = []\n",
    "for index in range(10):\n",
    "    x1 = random.uniform(-1,1)\n",
    "    x2 = random.uniform(-1,1)\n",
    "    x1values.append(x1)\n",
    "    x2values.append(x2)\n",
    "    \n",
    "plt.scatter(x1values,x2values, color='red')\n",
    "plt.show()\n",
    "    "
   ]
  },
  {
   "cell_type": "code",
   "execution_count": 114,
   "metadata": {
    "collapsed": false
   },
   "outputs": [],
   "source": [
    "x0 = [1 for x in range(10)]\n",
    "x = np.array([x0,x1values,x2values])#, np.float64)"
   ]
  },
  {
   "cell_type": "code",
   "execution_count": 115,
   "metadata": {
    "collapsed": false
   },
   "outputs": [
    {
     "name": "stdout",
     "output_type": "stream",
     "text": [
      "[ 1. -1.  1. -1.  1. -1.  1.  1. -1. -1.]\n",
      "[[ 1.          1.          1.          1.          1.          1.          1.\n",
      "   1.          1.          1.        ]\n",
      " [ 0.01568255 -0.63067931  0.25976544 -0.81175309 -0.81865893  0.38687697\n",
      "   0.96438684  0.30784507 -0.68501181  0.05676253]\n",
      " [ 0.17476966  0.02381728  0.58595375 -0.39319747  0.61928907 -0.91623933\n",
      "   0.92951556  0.23112541 -0.96999853 -0.88089779]]\n",
      "[[ 1. -1.  1. -1.  1. -1.  1.  1. -1. -1.]]\n"
     ]
    }
   ],
   "source": [
    "print(y)\n",
    "print(x)\n",
    "print(h)"
   ]
  },
  {
   "cell_type": "code",
   "execution_count": 119,
   "metadata": {
    "collapsed": false
   },
   "outputs": [
    {
     "name": "stdout",
     "output_type": "stream",
     "text": [
      "[[ 1.        ]\n",
      " [ 0.25976544]\n",
      " [ 0.58595375]]\n",
      "[[ 0.        ]\n",
      " [ 0.94477725]\n",
      " [ 1.55595227]]\n",
      "[ 1. -1.  1.]\n"
     ]
    }
   ],
   "source": [
    "w = np.array([[0],[0],[0]])\n",
    "#print(w)\n",
    "y = np.sign(x2values-(np.multiply(x1values,m)+b))\n",
    "\n",
    "#print(h)\n",
    "#print(y)\n",
    "for index in range(1000):\n",
    "    i = random.randrange(10)\n",
    "    h= np.sign(np.dot(np.transpose(w),x))\n",
    "    if h[0,i]!=y[i]:\n",
    "        w = (w.T + y[i]*(x[:,i])).T\n",
    "        print(w)\n",
    "    \n",
    "\n",
    "signn = np.sign(w[1]*x[:,1]+w[2]*x[:,2])\n",
    "print(signn)\n",
    "\n",
    "        \n",
    "    \n",
    "\n",
    "    \n",
    "    "
   ]
  },
  {
   "cell_type": "code",
   "execution_count": 62,
   "metadata": {
    "collapsed": false
   },
   "outputs": [
    {
     "name": "stdout",
     "output_type": "stream",
     "text": [
      "[[3]\n",
      " [3]]\n"
     ]
    }
   ],
   "source": [
    "a = np.array([[1],[1]])\n",
    "b = np.array([[2],[2]])\n",
    "print(a+b)"
   ]
  },
  {
   "cell_type": "code",
   "execution_count": null,
   "metadata": {
    "collapsed": true
   },
   "outputs": [],
   "source": []
  }
 ],
 "metadata": {
  "kernelspec": {
   "display_name": "Python 3",
   "language": "python",
   "name": "python3"
  },
  "language_info": {
   "codemirror_mode": {
    "name": "ipython",
    "version": 3
   },
   "file_extension": ".py",
   "mimetype": "text/x-python",
   "name": "python",
   "nbconvert_exporter": "python",
   "pygments_lexer": "ipython3",
   "version": "3.6.0"
  }
 },
 "nbformat": 4,
 "nbformat_minor": 2
}
