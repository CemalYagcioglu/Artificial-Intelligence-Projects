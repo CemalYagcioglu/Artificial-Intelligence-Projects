{
 "cells": [
  {
   "cell_type": "markdown",
   "metadata": {},
   "source": [
    "# Ensembling, normalising columns"
   ]
  },
  {
   "cell_type": "code",
   "execution_count": 5,
   "metadata": {
    "collapsed": true
   },
   "outputs": [],
   "source": [
    "import pandas as pd\n",
    "import numpy as np\n",
    "\n",
    "import warnings\n",
    "warnings.filterwarnings(\"ignore\")\n",
    "\n",
    "import seaborn as sns\n",
    "sns.set(style=\"white\", color_codes=True)\n",
    "\n",
    "import matplotlib.pyplot as plt\n",
    "\n",
    "import tensorflow as tf\n",
    "import csv\n",
    "\n",
    "from glob import glob\n",
    "from sklearn.decomposition import TruncatedSVD\n",
    "from sklearn.feature_extraction.text import TfidfVectorizer\n",
    "from sklearn import datasets\n",
    "from sklearn import metrics\n",
    "from sklearn import model_selection\n",
    "\n",
    "from sklearn.ensemble import GradientBoostingRegressor\n",
    "from sklearn.feature_selection import SelectFromModel, VarianceThreshold\n",
    "\n",
    "import sys;"
   ]
  },
  {
   "cell_type": "markdown",
   "metadata": {},
   "source": [
    "# Import Data"
   ]
  },
  {
   "cell_type": "code",
   "execution_count": 6,
   "metadata": {
    "collapsed": false
   },
   "outputs": [],
   "source": [
    "features_test = pd.read_csv('./input/dengue_features_test.csv', parse_dates=True, delimiter=',') # , index_col=0\n",
    "features_train = pd.read_csv('./input/dengue_features_train.csv', parse_dates=True, delimiter=',')\n",
    "labels_train = pd.read_csv('./input/dengue_labels_train.csv', parse_dates=True, delimiter=',')"
   ]
  },
  {
   "cell_type": "code",
   "execution_count": 7,
   "metadata": {
    "collapsed": false,
    "scrolled": true
   },
   "outputs": [
    {
     "data": {
      "text/plain": [
       "(416, 24)"
      ]
     },
     "execution_count": 7,
     "metadata": {},
     "output_type": "execute_result"
    }
   ],
   "source": [
    "features_test.shape"
   ]
  },
  {
   "cell_type": "markdown",
   "metadata": {},
   "source": [
    "# Drop Certain Features"
   ]
  },
  {
   "cell_type": "code",
   "execution_count": 8,
   "metadata": {
    "collapsed": true
   },
   "outputs": [],
   "source": [
    "#features_train.drop('year', axis=1, inplace=True)\n",
    "#features_train.drop('weekofyear', axis=1, inplace=True)\n",
    "features_train.drop('week_start_date', axis=1, inplace=True)\n",
    "\n",
    "labels_train.drop('year', axis=1, inplace=True)\n",
    "labels_train.drop('weekofyear', axis=1, inplace=True)\n",
    "labels_train.drop('city', axis=1, inplace=True)\n",
    "\n",
    "#features_train.drop('year', axis=1, inplace=True)\n",
    "#features_train.drop('weekofyear', axis=1, inplace=True)\n",
    "features_test.drop('week_start_date', axis=1, inplace=True)"
   ]
  },
  {
   "cell_type": "markdown",
   "metadata": {},
   "source": [
    "# Recode Cities"
   ]
  },
  {
   "cell_type": "code",
   "execution_count": 9,
   "metadata": {
    "collapsed": true
   },
   "outputs": [],
   "source": [
    "features_train = features_train.replace('sj',0)\n",
    "features_train = features_train.replace('iq',1)\n",
    "\n",
    "labels_train = labels_train.replace('sj',0)\n",
    "labels_train = labels_train.replace('iq',1)\n",
    "\n",
    "features_test = features_test.replace('sj',0)\n",
    "features_test = features_test.replace('iq',1)"
   ]
  },
  {
   "cell_type": "code",
   "execution_count": 10,
   "metadata": {
    "collapsed": false
   },
   "outputs": [
    {
     "data": {
      "text/plain": [
       "(416, 23)"
      ]
     },
     "execution_count": 10,
     "metadata": {},
     "output_type": "execute_result"
    }
   ],
   "source": [
    "features_test.shape"
   ]
  },
  {
   "cell_type": "markdown",
   "metadata": {},
   "source": [
    "# Normalize"
   ]
  },
  {
   "cell_type": "code",
   "execution_count": 11,
   "metadata": {
    "collapsed": true
   },
   "outputs": [],
   "source": [
    "features_train = (features_train -  features_train.mean()) / features_train.std()\n",
    "features_test = (features_test -  features_test.mean()) / features_test.std()"
   ]
  },
  {
   "cell_type": "code",
   "execution_count": 12,
   "metadata": {
    "collapsed": false
   },
   "outputs": [
    {
     "data": {
      "text/plain": [
       "(416, 23)"
      ]
     },
     "execution_count": 12,
     "metadata": {},
     "output_type": "execute_result"
    }
   ],
   "source": [
    "features_test.shape"
   ]
  },
  {
   "cell_type": "markdown",
   "metadata": {},
   "source": [
    "# Creating New Features"
   ]
  },
  {
   "cell_type": "code",
   "execution_count": 13,
   "metadata": {
    "collapsed": false
   },
   "outputs": [
    {
     "data": {
      "text/plain": [
       "0"
      ]
     },
     "execution_count": 13,
     "metadata": {},
     "output_type": "execute_result"
    }
   ],
   "source": [
    "sum(features_test[\"station_min_temp_c\"]>26)"
   ]
  },
  {
   "cell_type": "code",
   "execution_count": 14,
   "metadata": {
    "collapsed": false
   },
   "outputs": [
    {
     "data": {
      "text/plain": [
       "-2.0583696952904362e-16"
      ]
     },
     "execution_count": 14,
     "metadata": {},
     "output_type": "execute_result"
    }
   ],
   "source": [
    "features_test[\"station_precip_mm\"].mean()"
   ]
  },
  {
   "cell_type": "markdown",
   "metadata": {
    "collapsed": true
   },
   "source": [
    "# Fill in NAs"
   ]
  },
  {
   "cell_type": "code",
   "execution_count": 15,
   "metadata": {
    "collapsed": true
   },
   "outputs": [],
   "source": [
    "features_train.fillna(method='bfill', inplace=True)\n",
    "features_test.fillna(method='bfill', inplace=True)\n",
    "labels_train.fillna(method='bfill', inplace=True)"
   ]
  },
  {
   "cell_type": "code",
   "execution_count": 16,
   "metadata": {
    "collapsed": false
   },
   "outputs": [
    {
     "data": {
      "text/plain": [
       "(416, 23)"
      ]
     },
     "execution_count": 16,
     "metadata": {},
     "output_type": "execute_result"
    }
   ],
   "source": [
    "features_test.shape"
   ]
  },
  {
   "cell_type": "markdown",
   "metadata": {},
   "source": [
    "# Split Train/Test"
   ]
  },
  {
   "cell_type": "code",
   "execution_count": 17,
   "metadata": {
    "collapsed": true
   },
   "outputs": [],
   "source": [
    "x_train, x_val, y_train, y_val = model_selection.train_test_split(features_train, \n",
    "                                                                    labels_train, test_size=0.3, random_state=101)"
   ]
  },
  {
   "cell_type": "code",
   "execution_count": 18,
   "metadata": {
    "collapsed": true
   },
   "outputs": [],
   "source": [
    "#train, test, target, y_validation = model_selection.train_test_split(features_train, labels_train, \n",
    "                                                                    #test_size=0.3, random_state=101)"
   ]
  },
  {
   "cell_type": "code",
   "execution_count": 19,
   "metadata": {
    "collapsed": false
   },
   "outputs": [
    {
     "data": {
      "text/plain": [
       "(1019, 23)"
      ]
     },
     "execution_count": 19,
     "metadata": {},
     "output_type": "execute_result"
    }
   ],
   "source": [
    "x_train.shape"
   ]
  },
  {
   "cell_type": "code",
   "execution_count": 20,
   "metadata": {
    "collapsed": false
   },
   "outputs": [
    {
     "data": {
      "text/html": [
       "<div>\n",
       "<style>\n",
       "    .dataframe thead tr:only-child th {\n",
       "        text-align: right;\n",
       "    }\n",
       "\n",
       "    .dataframe thead th {\n",
       "        text-align: left;\n",
       "    }\n",
       "\n",
       "    .dataframe tbody tr th {\n",
       "        vertical-align: top;\n",
       "    }\n",
       "</style>\n",
       "<table border=\"1\" class=\"dataframe\">\n",
       "  <thead>\n",
       "    <tr style=\"text-align: right;\">\n",
       "      <th></th>\n",
       "      <th>city</th>\n",
       "      <th>year</th>\n",
       "      <th>weekofyear</th>\n",
       "      <th>ndvi_ne</th>\n",
       "      <th>ndvi_nw</th>\n",
       "      <th>ndvi_se</th>\n",
       "      <th>ndvi_sw</th>\n",
       "      <th>precipitation_amt_mm</th>\n",
       "      <th>reanalysis_air_temp_k</th>\n",
       "      <th>reanalysis_avg_temp_k</th>\n",
       "      <th>...</th>\n",
       "      <th>reanalysis_precip_amt_kg_per_m2</th>\n",
       "      <th>reanalysis_relative_humidity_percent</th>\n",
       "      <th>reanalysis_sat_precip_amt_mm</th>\n",
       "      <th>reanalysis_specific_humidity_g_per_kg</th>\n",
       "      <th>reanalysis_tdtr_k</th>\n",
       "      <th>station_avg_temp_c</th>\n",
       "      <th>station_diur_temp_rng_c</th>\n",
       "      <th>station_max_temp_c</th>\n",
       "      <th>station_min_temp_c</th>\n",
       "      <th>station_precip_mm</th>\n",
       "    </tr>\n",
       "  </thead>\n",
       "  <tbody>\n",
       "    <tr>\n",
       "      <th>880</th>\n",
       "      <td>-0.7451</td>\n",
       "      <td>1.103561</td>\n",
       "      <td>-0.832484</td>\n",
       "      <td>-0.878288</td>\n",
       "      <td>-0.810861</td>\n",
       "      <td>-0.226457</td>\n",
       "      <td>-0.458419</td>\n",
       "      <td>1.027543</td>\n",
       "      <td>-0.678726</td>\n",
       "      <td>-1.078922</td>\n",
       "      <td>...</td>\n",
       "      <td>-0.088681</td>\n",
       "      <td>-0.831389</td>\n",
       "      <td>1.027543</td>\n",
       "      <td>-1.279466</td>\n",
       "      <td>-0.798638</td>\n",
       "      <td>-1.227057</td>\n",
       "      <td>-0.960760</td>\n",
       "      <td>-1.251679</td>\n",
       "      <td>-0.255485</td>\n",
       "      <td>0.018410</td>\n",
       "    </tr>\n",
       "    <tr>\n",
       "      <th>267</th>\n",
       "      <td>-0.7451</td>\n",
       "      <td>-1.115245</td>\n",
       "      <td>-0.166680</td>\n",
       "      <td>-0.375316</td>\n",
       "      <td>-0.423775</td>\n",
       "      <td>-0.298795</td>\n",
       "      <td>-0.552066</td>\n",
       "      <td>-0.585613</td>\n",
       "      <td>0.826999</td>\n",
       "      <td>0.534528</td>\n",
       "      <td>...</td>\n",
       "      <td>-0.542930</td>\n",
       "      <td>-0.422821</td>\n",
       "      <td>-0.585613</td>\n",
       "      <td>0.356104</td>\n",
       "      <td>-0.730159</td>\n",
       "      <td>0.453164</td>\n",
       "      <td>-0.276195</td>\n",
       "      <td>0.177390</td>\n",
       "      <td>0.443342</td>\n",
       "      <td>0.087949</td>\n",
       "    </tr>\n",
       "  </tbody>\n",
       "</table>\n",
       "<p>2 rows × 23 columns</p>\n",
       "</div>"
      ],
      "text/plain": [
       "       city      year  weekofyear   ndvi_ne   ndvi_nw   ndvi_se   ndvi_sw  \\\n",
       "880 -0.7451  1.103561   -0.832484 -0.878288 -0.810861 -0.226457 -0.458419   \n",
       "267 -0.7451 -1.115245   -0.166680 -0.375316 -0.423775 -0.298795 -0.552066   \n",
       "\n",
       "     precipitation_amt_mm  reanalysis_air_temp_k  reanalysis_avg_temp_k  \\\n",
       "880              1.027543              -0.678726              -1.078922   \n",
       "267             -0.585613               0.826999               0.534528   \n",
       "\n",
       "           ...          reanalysis_precip_amt_kg_per_m2  \\\n",
       "880        ...                                -0.088681   \n",
       "267        ...                                -0.542930   \n",
       "\n",
       "     reanalysis_relative_humidity_percent  reanalysis_sat_precip_amt_mm  \\\n",
       "880                             -0.831389                      1.027543   \n",
       "267                             -0.422821                     -0.585613   \n",
       "\n",
       "     reanalysis_specific_humidity_g_per_kg  reanalysis_tdtr_k  \\\n",
       "880                              -1.279466          -0.798638   \n",
       "267                               0.356104          -0.730159   \n",
       "\n",
       "     station_avg_temp_c  station_diur_temp_rng_c  station_max_temp_c  \\\n",
       "880           -1.227057                -0.960760           -1.251679   \n",
       "267            0.453164                -0.276195            0.177390   \n",
       "\n",
       "     station_min_temp_c  station_precip_mm  \n",
       "880           -0.255485           0.018410  \n",
       "267            0.443342           0.087949  \n",
       "\n",
       "[2 rows x 23 columns]"
      ]
     },
     "execution_count": 20,
     "metadata": {},
     "output_type": "execute_result"
    }
   ],
   "source": [
    "x_train.head(2)"
   ]
  },
  {
   "cell_type": "code",
   "execution_count": 21,
   "metadata": {
    "collapsed": false
   },
   "outputs": [
    {
     "data": {
      "text/plain": [
       "(437, 23)"
      ]
     },
     "execution_count": 21,
     "metadata": {},
     "output_type": "execute_result"
    }
   ],
   "source": [
    "x_val.shape"
   ]
  },
  {
   "cell_type": "code",
   "execution_count": 22,
   "metadata": {
    "collapsed": false
   },
   "outputs": [
    {
     "data": {
      "text/html": [
       "<div>\n",
       "<style>\n",
       "    .dataframe thead tr:only-child th {\n",
       "        text-align: right;\n",
       "    }\n",
       "\n",
       "    .dataframe thead th {\n",
       "        text-align: left;\n",
       "    }\n",
       "\n",
       "    .dataframe tbody tr th {\n",
       "        vertical-align: top;\n",
       "    }\n",
       "</style>\n",
       "<table border=\"1\" class=\"dataframe\">\n",
       "  <thead>\n",
       "    <tr style=\"text-align: right;\">\n",
       "      <th></th>\n",
       "      <th>total_cases</th>\n",
       "    </tr>\n",
       "  </thead>\n",
       "  <tbody>\n",
       "    <tr>\n",
       "      <th>880</th>\n",
       "      <td>3</td>\n",
       "    </tr>\n",
       "    <tr>\n",
       "      <th>267</th>\n",
       "      <td>7</td>\n",
       "    </tr>\n",
       "  </tbody>\n",
       "</table>\n",
       "</div>"
      ],
      "text/plain": [
       "     total_cases\n",
       "880            3\n",
       "267            7"
      ]
     },
     "execution_count": 22,
     "metadata": {},
     "output_type": "execute_result"
    }
   ],
   "source": [
    "y_train.head(2)"
   ]
  },
  {
   "cell_type": "code",
   "execution_count": 23,
   "metadata": {
    "collapsed": false
   },
   "outputs": [
    {
     "data": {
      "text/html": [
       "<div>\n",
       "<style>\n",
       "    .dataframe thead tr:only-child th {\n",
       "        text-align: right;\n",
       "    }\n",
       "\n",
       "    .dataframe thead th {\n",
       "        text-align: left;\n",
       "    }\n",
       "\n",
       "    .dataframe tbody tr th {\n",
       "        vertical-align: top;\n",
       "    }\n",
       "</style>\n",
       "<table border=\"1\" class=\"dataframe\">\n",
       "  <thead>\n",
       "    <tr style=\"text-align: right;\">\n",
       "      <th></th>\n",
       "      <th>total_cases</th>\n",
       "    </tr>\n",
       "  </thead>\n",
       "  <tbody>\n",
       "    <tr>\n",
       "      <th>18</th>\n",
       "      <td>24</td>\n",
       "    </tr>\n",
       "    <tr>\n",
       "      <th>104</th>\n",
       "      <td>24</td>\n",
       "    </tr>\n",
       "  </tbody>\n",
       "</table>\n",
       "</div>"
      ],
      "text/plain": [
       "     total_cases\n",
       "18            24\n",
       "104           24"
      ]
     },
     "execution_count": 23,
     "metadata": {},
     "output_type": "execute_result"
    }
   ],
   "source": [
    "y_val.head(2)"
   ]
  },
  {
   "cell_type": "code",
   "execution_count": 24,
   "metadata": {
    "collapsed": false
   },
   "outputs": [
    {
     "data": {
      "text/plain": [
       "(416, 23)"
      ]
     },
     "execution_count": 24,
     "metadata": {},
     "output_type": "execute_result"
    }
   ],
   "source": [
    "features_test.shape"
   ]
  },
  {
   "cell_type": "code",
   "execution_count": 25,
   "metadata": {
    "collapsed": false
   },
   "outputs": [],
   "source": [
    "import xgboost as xgb"
   ]
  },
  {
   "cell_type": "code",
   "execution_count": 26,
   "metadata": {
    "collapsed": true
   },
   "outputs": [],
   "source": [
    "from sklearn.cross_validation import KFold"
   ]
  },
  {
   "cell_type": "code",
   "execution_count": 27,
   "metadata": {
    "collapsed": false
   },
   "outputs": [
    {
     "data": {
      "text/plain": [
       "XGBRegressor(base_score=0.5, colsample_bylevel=1, colsample_bytree=0.7,\n",
       "       gamma=0, learning_rate=0.01, max_delta_step=0, max_depth=7,\n",
       "       min_child_weight=1, missing=None, n_estimators=100, nthread=-1,\n",
       "       objective='reg:linear', reg_alpha=0, reg_lambda=1,\n",
       "       scale_pos_weight=1, seed=0, silent=0, subsample=0.7)"
      ]
     },
     "execution_count": 27,
     "metadata": {},
     "output_type": "execute_result"
    }
   ],
   "source": [
    "xgbc = xgb.XGBRegressor(n_estimators = 100, # number of boosted trees\n",
    "                             learning_rate = 0.01, # step size shrinkage used in update to prevent overfitting\n",
    "                             max_depth = 7, # maximum depth of a tree\n",
    "                             subsample = 0.7, # subsample ratio of the training set (Stochastic gradient boosting)\n",
    "                             colsample_bytree = 0.7,\n",
    "                             silent = 0) # subsample features\n",
    "    \n",
    "xgbc.fit(x_train, y_train)"
   ]
  },
  {
   "cell_type": "code",
   "execution_count": 28,
   "metadata": {
    "collapsed": false
   },
   "outputs": [
    {
     "name": "stdout",
     "output_type": "stream",
     "text": [
      "Training Error: 11.9530039634\n",
      "Validation Error: 11.3997063708\n"
     ]
    }
   ],
   "source": [
    "    #Print the MAE\n",
    "\n",
    "    #Training error\n",
    "print('Training Error:', metrics.mean_absolute_error(y_train, xgbc.predict(x_train)))\n",
    "    \n",
    "    #Val error\n",
    "print('Validation Error:', metrics.mean_absolute_error(y_val, xgbc.predict(x_val)))"
   ]
  },
  {
   "cell_type": "markdown",
   "metadata": {},
   "source": [
    "# Final XGBoost Model"
   ]
  },
  {
   "cell_type": "code",
   "execution_count": 29,
   "metadata": {
    "collapsed": false
   },
   "outputs": [
    {
     "data": {
      "text/plain": [
       "array([13, 15, 13, 16, 13, 15, 19, 18, 16, 18, 18, 20, 22, 31, 31, 20, 17,\n",
       "       41, 21, 19, 43, 45, 43, 52, 52, 45, 48, 47, 49, 60, 52, 47, 39, 41,\n",
       "       39, 15, 19, 19, 22, 20, 18, 16, 15, 13, 13, 14, 13, 13, 13, 12, 12,\n",
       "       13, 13, 13, 14, 14, 16, 14, 14, 16, 20, 32, 21, 24, 23, 29, 35, 29,\n",
       "       35, 50, 42, 29, 32, 33, 32, 36, 37, 34, 51, 31, 30, 33, 26, 28, 28,\n",
       "       23, 23, 21, 17, 26, 84, 28, 25, 19, 26, 24, 25, 20, 21, 24, 24, 20,\n",
       "       20, 21, 25, 29, 26, 28, 29, 41, 45, 36, 38, 46, 57, 82, 58, 63, 69,\n",
       "       80, 77, 90, 32, 28, 55, 42, 40, 42, 38, 41, 41, 38, 38, 33, 32, 30,\n",
       "       24, 32, 27, 10, 10, 11, 11, 10, 10,  9,  9,  9,  7,  5,  5,  4,  6,\n",
       "        5,  5,  5,  4,  5,  4,  6,  7,  8,  8, 14, 12, 15, 15, 14, 12, 18,\n",
       "       12, 18, 14, 15, 18, 11, 13, 14, 16, 16, 13, 12, 13, 16, 14, 14, 23,\n",
       "       14, 11, 18, 12, 12, 10,  9,  8,  9,  9,  8,  7,  8,  7,  6,  5,  5,\n",
       "        5,  6,  5,  6,  5,  6,  5,  6,  5,  5,  7, 12, 14, 14, 15,  9, 10,\n",
       "       14, 11, 14, 17, 16,  9, 16, 19, 20, 25, 16, 16, 18, 16, 22, 16, 16,\n",
       "       15, 16, 14, 12,  9, 10,  9,  8,  8, 12,  8,  7,  7,  6,  5,  5,  4,\n",
       "        5,  5,  5,  5,  5, 35, 22, 41, 42, 23, 23, 25, 43, 23, 24, 38, 28,\n",
       "       22, 21, 24, 23, 96, 63, 27, 24, 33, 25, 37, 39, 18, 64,  5,  7,  6,\n",
       "        5,  6,  6,  6,  6,  6,  6,  5,  4,  5,  5,  4,  4,  3,  4,  4,  3,\n",
       "        3,  3,  3,  3,  3,  3,  3,  3,  2,  3,  3,  3,  3,  3,  3,  3,  3,\n",
       "        3,  3,  4,  4,  6,  8,  8,  7,  8,  9,  7,  6, 11,  9,  8,  6,  7,\n",
       "        7,  7,  5,  6,  8,  7,  8,  5,  4,  2,  2,  5,  2,  4,  4,  4,  3,\n",
       "        2,  3,  2,  2,  2,  2,  2,  2,  2,  2,  2,  2,  2,  2,  2,  3,  3,\n",
       "        2,  3,  3,  4,  4,  6,  9,  6,  5,  6,  7, 11,  6,  6,  7,  7,  9,\n",
       "        8,  8,  9,  9,  9, 10,  8,  8,  5,  5,  5,  4,  4,  4,  4,  4,  2,\n",
       "        4,  4,  2,  3,  2,  2,  3,  2])"
      ]
     },
     "execution_count": 29,
     "metadata": {},
     "output_type": "execute_result"
    }
   ],
   "source": [
    "features_test.shape\n",
    "\n",
    "xgbc.fit(features_train, labels_train)\n",
    "final = xgbc.predict(features_test)\n",
    "final.shape\n",
    "\n",
    "final = np.hstack(final)\n",
    "final[final < 0] = 0\n",
    "final = final.astype(dtype='int64')\n",
    "\n",
    "np.savetxt(\"final15.csv\", final, delimiter=\",\")\n",
    "\n",
    "final\n",
    "\n"
   ]
  }
 ],
 "metadata": {
  "kernelspec": {
   "display_name": "Python 3",
   "language": "python",
   "name": "python3"
  },
  "language_info": {
   "codemirror_mode": {
    "name": "ipython",
    "version": 3
   },
   "file_extension": ".py",
   "mimetype": "text/x-python",
   "name": "python",
   "nbconvert_exporter": "python",
   "pygments_lexer": "ipython3",
   "version": "3.6.0"
  }
 },
 "nbformat": 4,
 "nbformat_minor": 2
}
